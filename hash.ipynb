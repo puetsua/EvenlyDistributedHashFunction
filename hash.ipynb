{
 "nbformat": 4,
 "nbformat_minor": 2,
 "metadata": {
  "language_info": {
   "name": "python",
   "codemirror_mode": {
    "name": "ipython",
    "version": 3
   },
   "version": "3.7.4-final"
  },
  "orig_nbformat": 2,
  "file_extension": ".py",
  "mimetype": "text/x-python",
  "name": "python",
  "npconvert_exporter": "python",
  "pygments_lexer": "ipython3",
  "version": 3,
  "kernelspec": {
   "name": "python37464bitbaseconda1f96494b4ae74791b55350fbd1bd7ec4",
   "display_name": "Python 3.7.4 64-bit ('base': conda)"
  }
 },
 "cells": [
  {
   "cell_type": "code",
   "execution_count": 1,
   "metadata": {},
   "outputs": [],
   "source": [
    "import math\n",
    "import hashlib"
   ]
  },
  {
   "cell_type": "code",
   "execution_count": 2,
   "metadata": {},
   "outputs": [],
   "source": [
    "# ## Setup methods"
   ]
  },
  {
   "cell_type": "code",
   "execution_count": 3,
   "metadata": {},
   "outputs": [],
   "source": [
    "def method_1(istr):\n",
    "    byte_list = istr.encode('utf-8') + b'j/3als-0423'\n",
    "    maxVal = int.from_bytes([0xff] * 4, byteorder='big', signed=False)\n",
    "    Q = 9874314047312\n",
    "    M = 909090909090909091 # prime number\n",
    "    result = 0\n",
    "    for b in byte_list:\n",
    "        result += result * Q + b * b\n",
    "    result = result % M\n",
    "    result = result % maxVal\n",
    "    rbytes = result.to_bytes(4, byteorder='big', signed=False)\n",
    "\n",
    "    return rbytes\n",
    "\n",
    "def method_md5(istr):\n",
    "    return hashlib.md5(istr.encode('utf-8')).digest()\n",
    "\n",
    "def method_sha224(istr):\n",
    "    return hashlib.sha224(istr.encode('utf-8')).digest()\n",
    "\n",
    "def method_sha512(istr):\n",
    "    return hashlib.sha512(istr.encode('utf-8')).digest()\n",
    "\n",
    "def method_shake256(istr):\n",
    "    return hashlib.shake_256(istr.encode('utf-8')).digest(4)"
   ]
  },
  {
   "cell_type": "code",
   "execution_count": 4,
   "metadata": {},
   "outputs": [],
   "source": [
    "# Test setup\n",
    "ntests = 13153\n",
    "nbuckets = 5\n",
    "truncate_len = 4\n",
    "maxVal = int.from_bytes([0xff] * truncate_len, byteorder='big', signed=False)"
   ]
  },
  {
   "cell_type": "code",
   "execution_count": 5,
   "metadata": {},
   "outputs": [],
   "source": [
    "# ## Custom made hash function"
   ]
  },
  {
   "cell_type": "code",
   "execution_count": 6,
   "metadata": {},
   "outputs": [
    {
     "name": "stdout",
     "output_type": "stream",
     "text": "0: 2656, 0.202\n1: 2562, 0.195\n2: 2584, 0.196\n3: 2609, 0.198\n4: 2742, 0.208\n\nWall time: 105 ms\n"
    }
   ],
   "source": [
    "%%time\n",
    "buckets = [0]*nbuckets\n",
    "for i in range(ntests):\n",
    "    istr = \"ab{}bc\".format(i)\n",
    "    val = int.from_bytes(method_1(istr)[:truncate_len], byteorder='big', signed=False)\n",
    "    ratio = val / float(maxVal)\n",
    "\n",
    "    idx = math.floor(ratio * nbuckets)\n",
    "    buckets[idx] += 1\n",
    "\n",
    "for x in [\"{}: {}, {:.3f}\".format(i, buckets[i], buckets[i] / float(ntests)) for i in range(nbuckets)]:\n",
    "    print(x)\n",
    "print(\"\")"
   ]
  },
  {
   "cell_type": "code",
   "execution_count": 7,
   "metadata": {},
   "outputs": [],
   "source": [
    "# ## MD5"
   ]
  },
  {
   "cell_type": "code",
   "execution_count": 8,
   "metadata": {},
   "outputs": [
    {
     "name": "stdout",
     "output_type": "stream",
     "text": "0: 2623, 0.199\n1: 2625, 0.200\n2: 2659, 0.202\n3: 2598, 0.198\n4: 2648, 0.201\n\nWall time: 47 ms\n"
    }
   ],
   "source": [
    "%%time\n",
    "buckets = [0]*nbuckets\n",
    "for i in range(ntests):\n",
    "    istr = \"ab{}bc\".format(i)\n",
    "    val = int.from_bytes(method_md5(istr)[:truncate_len], byteorder='big', signed=False)\n",
    "    ratio = val / float(maxVal)\n",
    "\n",
    "    idx = math.floor(ratio * nbuckets)\n",
    "    buckets[idx] += 1\n",
    "\n",
    "for x in [\"{}: {}, {:.3f}\".format(i, buckets[i], buckets[i] / float(ntests)) for i in range(nbuckets)]:\n",
    "    print(x)\n",
    "print(\"\")"
   ]
  },
  {
   "cell_type": "code",
   "execution_count": 9,
   "metadata": {},
   "outputs": [],
   "source": [
    "# ## SHA224"
   ]
  },
  {
   "cell_type": "code",
   "execution_count": 10,
   "metadata": {},
   "outputs": [
    {
     "name": "stdout",
     "output_type": "stream",
     "text": "0: 2610, 0.198\n1: 2620, 0.199\n2: 2627, 0.200\n3: 2682, 0.204\n4: 2614, 0.199\n\nWall time: 40 ms\n"
    }
   ],
   "source": [
    "%%time\n",
    "buckets = [0]*nbuckets\n",
    "for i in range(ntests):\n",
    "    istr = \"ab{}bc\".format(i)\n",
    "    val = int.from_bytes(method_sha224(istr)[:truncate_len], byteorder='big', signed=False)\n",
    "    ratio = val / float(maxVal)\n",
    "\n",
    "    idx = math.floor(ratio * nbuckets)\n",
    "    buckets[idx] += 1\n",
    "\n",
    "for x in [\"{}: {}, {:.3f}\".format(i, buckets[i], buckets[i] / float(ntests)) for i in range(nbuckets)]:\n",
    "    print(x)\n",
    "print(\"\")"
   ]
  },
  {
   "cell_type": "code",
   "execution_count": 11,
   "metadata": {},
   "outputs": [],
   "source": [
    "# ## SHA512"
   ]
  },
  {
   "cell_type": "code",
   "execution_count": 12,
   "metadata": {},
   "outputs": [
    {
     "name": "stdout",
     "output_type": "stream",
     "text": "0: 2741, 0.208\n1: 2517, 0.191\n2: 2626, 0.200\n3: 2683, 0.204\n4: 2586, 0.197\n\nWall time: 40 ms\n"
    }
   ],
   "source": [
    "%%time\n",
    "buckets = [0]*nbuckets\n",
    "for i in range(ntests):\n",
    "    istr = \"ab{}bc\".format(i)\n",
    "    val = int.from_bytes(method_sha512(istr)[:truncate_len], byteorder='big', signed=False)\n",
    "    ratio = val / float(maxVal)\n",
    "\n",
    "    idx = math.floor(ratio * nbuckets)\n",
    "    buckets[idx] += 1\n",
    "\n",
    "for x in [\"{}: {}, {:.3f}\".format(i, buckets[i], buckets[i] / float(ntests)) for i in range(nbuckets)]:\n",
    "    print(x)\n",
    "print(\"\")"
   ]
  },
  {
   "cell_type": "code",
   "execution_count": 13,
   "metadata": {},
   "outputs": [],
   "source": [
    "# ## Shake 256"
   ]
  },
  {
   "cell_type": "code",
   "execution_count": 14,
   "metadata": {},
   "outputs": [
    {
     "name": "stdout",
     "output_type": "stream",
     "text": "0: 2554, 0.194\n1: 2717, 0.207\n2: 2665, 0.203\n3: 2586, 0.197\n4: 2631, 0.200\n\nWall time: 33 ms\n"
    }
   ],
   "source": [
    "%%time\n",
    "buckets = [0]*nbuckets\n",
    "for i in range(ntests):\n",
    "    istr = \"ab{}bc\".format(i)\n",
    "    val = int.from_bytes(method_shake256(istr)[:truncate_len], byteorder='big', signed=False)\n",
    "    ratio = val / float(maxVal)\n",
    "\n",
    "    idx = math.floor(ratio * nbuckets)\n",
    "    buckets[idx] += 1\n",
    "\n",
    "for x in [\"{}: {}, {:.3f}\".format(i, buckets[i], buckets[i] / float(ntests)) for i in range(nbuckets)]:\n",
    "    print(x)\n",
    "print(\"\")"
   ]
  }
 ]
}