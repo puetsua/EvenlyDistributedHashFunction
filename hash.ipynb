{
 "nbformat": 4,
 "nbformat_minor": 2,
 "metadata": {
  "language_info": {
   "name": "python",
   "codemirror_mode": {
    "name": "ipython",
    "version": 3
   },
   "version": "3.7.4-final"
  },
  "orig_nbformat": 2,
  "file_extension": ".py",
  "mimetype": "text/x-python",
  "name": "python",
  "npconvert_exporter": "python",
  "pygments_lexer": "ipython3",
  "version": 3,
  "kernelspec": {
   "name": "python37464bitbaseconda1f96494b4ae74791b55350fbd1bd7ec4",
   "display_name": "Python 3.7.4 64-bit ('base': conda)"
  }
 },
 "cells": [
  {
   "cell_type": "code",
   "execution_count": 1,
   "metadata": {},
   "outputs": [],
   "source": [
    "import math\n",
    "import hashlib"
   ]
  },
  {
   "cell_type": "code",
   "execution_count": 2,
   "metadata": {},
   "outputs": [],
   "source": [
    "# ## Setup methods"
   ]
  },
  {
   "cell_type": "code",
   "execution_count": 3,
   "metadata": {},
   "outputs": [],
   "source": [
    "def method_1(istr):\n",
    "    byte_list = istr.encode('utf-8') + b'j/3als-0423'\n",
    "    maxVal = int.from_bytes([0xff] * 4, byteorder='big', signed=False)\n",
    "    Q = 9874314047312\n",
    "    M = 909090909090909091 # prime number\n",
    "    result = 0\n",
    "    for b in byte_list:\n",
    "        result += result * Q + b * b\n",
    "    result = result % M\n",
    "    result = result % maxVal\n",
    "    rbytes = result.to_bytes(4, byteorder='big', signed=False)\n",
    "\n",
    "    return rbytes\n",
    "\n",
    "def method_md5(istr):\n",
    "    return hashlib.md5(istr.encode('utf-8')).digest()\n",
    "\n",
    "def method_sha224(istr):\n",
    "    return hashlib.sha224(istr.encode('utf-8')).digest()\n",
    "\n",
    "def method_sha512(istr):\n",
    "    return hashlib.sha512(istr.encode('utf-8')).digest()\n",
    "\n",
    "def method_shake256(istr):\n",
    "    return hashlib.shake_256(istr.encode('utf-8')).digest(4)\n",
    "\n",
    "def display_result(buckets, ntests):\n",
    "    ideal_ratio = 1.0 / len(buckets)\n",
    "\n",
    "    for i in range(nbuckets):\n",
    "        ratio = buckets[i] / float(ntests)\n",
    "        print(\"{}: {}, {:.3f}, ±{:.3f}\".format(i, buckets[i], ratio, math.fabs(ratio - ideal_ratio)))\n",
    "    print(\"\")"
   ]
  },
  {
   "cell_type": "code",
   "execution_count": 4,
   "metadata": {},
   "outputs": [],
   "source": [
    "# Test setup\n",
    "ntests = 23153\n",
    "nbuckets = 10\n",
    "truncate_len = 4\n",
    "\n",
    "maxVal = int.from_bytes([0xff] * truncate_len, byteorder='big', signed=False)"
   ]
  },
  {
   "cell_type": "code",
   "execution_count": 5,
   "metadata": {},
   "outputs": [],
   "source": [
    "# ## Custom made hash function"
   ]
  },
  {
   "cell_type": "code",
   "execution_count": 6,
   "metadata": {},
   "outputs": [
    {
     "name": "stdout",
     "output_type": "stream",
     "text": "0: 2308, 0.100, ±0.000\n1: 2345, 0.101, ±0.001\n2: 2323, 0.100, ±0.000\n3: 2155, 0.093, ±0.007\n4: 2280, 0.098, ±0.002\n5: 2298, 0.099, ±0.001\n6: 2291, 0.099, ±0.001\n7: 2348, 0.101, ±0.001\n8: 2385, 0.103, ±0.003\n9: 2420, 0.105, ±0.005\n\nWall time: 186 ms\n"
    }
   ],
   "source": [
    "%%time\n",
    "buckets = [0]*nbuckets\n",
    "for i in range(ntests):\n",
    "    istr = \"ab{}bc\".format(i)\n",
    "    val = int.from_bytes(method_1(istr)[:truncate_len], byteorder='big', signed=False)\n",
    "    ratio = val / float(maxVal)\n",
    "\n",
    "    idx = math.floor(ratio * nbuckets)\n",
    "    buckets[idx] += 1\n",
    "\n",
    "display_result(buckets, ntests)"
   ]
  },
  {
   "cell_type": "code",
   "execution_count": 7,
   "metadata": {},
   "outputs": [],
   "source": [
    "# ## MD5"
   ]
  },
  {
   "cell_type": "code",
   "execution_count": 8,
   "metadata": {},
   "outputs": [
    {
     "name": "stdout",
     "output_type": "stream",
     "text": "0: 2325, 0.100, ±0.000\n1: 2311, 0.100, ±0.000\n2: 2362, 0.102, ±0.002\n3: 2301, 0.099, ±0.001\n4: 2319, 0.100, ±0.000\n5: 2314, 0.100, ±0.000\n6: 2300, 0.099, ±0.001\n7: 2299, 0.099, ±0.001\n8: 2341, 0.101, ±0.001\n9: 2281, 0.099, ±0.001\n\nWall time: 70 ms\n"
    }
   ],
   "source": [
    "%%time\n",
    "buckets = [0]*nbuckets\n",
    "for i in range(ntests):\n",
    "    istr = \"ab{}bc\".format(i)\n",
    "    val = int.from_bytes(method_md5(istr)[:truncate_len], byteorder='big', signed=False)\n",
    "    ratio = val / float(maxVal)\n",
    "\n",
    "    idx = math.floor(ratio * nbuckets)\n",
    "    buckets[idx] += 1\n",
    "\n",
    "display_result(buckets, ntests)"
   ]
  },
  {
   "cell_type": "code",
   "execution_count": 9,
   "metadata": {},
   "outputs": [],
   "source": [
    "# ## SHA224"
   ]
  },
  {
   "cell_type": "code",
   "execution_count": 10,
   "metadata": {},
   "outputs": [
    {
     "name": "stdout",
     "output_type": "stream",
     "text": "0: 2262, 0.098, ±0.002\n1: 2278, 0.098, ±0.002\n2: 2373, 0.102, ±0.002\n3: 2305, 0.100, ±0.000\n4: 2290, 0.099, ±0.001\n5: 2329, 0.101, ±0.001\n6: 2440, 0.105, ±0.005\n7: 2320, 0.100, ±0.000\n8: 2272, 0.098, ±0.002\n9: 2284, 0.099, ±0.001\n\nWall time: 65.5 ms\n"
    }
   ],
   "source": [
    "%%time\n",
    "buckets = [0]*nbuckets\n",
    "for i in range(ntests):\n",
    "    istr = \"ab{}bc\".format(i)\n",
    "    val = int.from_bytes(method_sha224(istr)[:truncate_len], byteorder='big', signed=False)\n",
    "    ratio = val / float(maxVal)\n",
    "\n",
    "    idx = math.floor(ratio * nbuckets)\n",
    "    buckets[idx] += 1\n",
    "\n",
    "display_result(buckets, ntests)"
   ]
  },
  {
   "cell_type": "code",
   "execution_count": 11,
   "metadata": {},
   "outputs": [],
   "source": [
    "# ## SHA512"
   ]
  },
  {
   "cell_type": "code",
   "execution_count": 12,
   "metadata": {},
   "outputs": [
    {
     "name": "stdout",
     "output_type": "stream",
     "text": "0: 2480, 0.107, ±0.007\n1: 2300, 0.099, ±0.001\n2: 2277, 0.098, ±0.002\n3: 2238, 0.097, ±0.003\n4: 2348, 0.101, ±0.001\n5: 2321, 0.100, ±0.000\n6: 2393, 0.103, ±0.003\n7: 2331, 0.101, ±0.001\n8: 2190, 0.095, ±0.005\n9: 2275, 0.098, ±0.002\n\nWall time: 71 ms\n"
    }
   ],
   "source": [
    "%%time\n",
    "buckets = [0]*nbuckets\n",
    "for i in range(ntests):\n",
    "    istr = \"ab{}bc\".format(i)\n",
    "    val = int.from_bytes(method_sha512(istr)[:truncate_len], byteorder='big', signed=False)\n",
    "    ratio = val / float(maxVal)\n",
    "\n",
    "    idx = math.floor(ratio * nbuckets)\n",
    "    buckets[idx] += 1\n",
    "\n",
    "display_result(buckets, ntests)"
   ]
  },
  {
   "cell_type": "code",
   "execution_count": 13,
   "metadata": {},
   "outputs": [],
   "source": [
    "# ## Shake 256"
   ]
  },
  {
   "cell_type": "code",
   "execution_count": 14,
   "metadata": {},
   "outputs": [
    {
     "name": "stdout",
     "output_type": "stream",
     "text": "0: 2289, 0.099, ±0.001\n1: 2288, 0.099, ±0.001\n2: 2352, 0.102, ±0.002\n3: 2329, 0.101, ±0.001\n4: 2303, 0.099, ±0.001\n5: 2340, 0.101, ±0.001\n6: 2340, 0.101, ±0.001\n7: 2337, 0.101, ±0.001\n8: 2343, 0.101, ±0.001\n9: 2232, 0.096, ±0.004\n\nWall time: 61 ms\n"
    }
   ],
   "source": [
    "%%time\n",
    "buckets = [0]*nbuckets\n",
    "for i in range(ntests):\n",
    "    istr = \"ab{}bc\".format(i)\n",
    "    val = int.from_bytes(method_shake256(istr)[:truncate_len], byteorder='big', signed=False)\n",
    "    ratio = val / float(maxVal)\n",
    "\n",
    "    idx = math.floor(ratio * nbuckets)\n",
    "    buckets[idx] += 1\n",
    "\n",
    "display_result(buckets, ntests)"
   ]
  }
 ]
}